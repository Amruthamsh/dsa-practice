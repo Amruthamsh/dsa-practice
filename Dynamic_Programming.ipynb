{
  "nbformat": 4,
  "nbformat_minor": 0,
  "metadata": {
    "colab": {
      "provenance": [],
      "authorship_tag": "ABX9TyNyMEBCAF/g6zzRaEufiUVx",
      "include_colab_link": true
    },
    "kernelspec": {
      "name": "python3",
      "display_name": "Python 3"
    },
    "language_info": {
      "name": "python"
    }
  },
  "cells": [
    {
      "cell_type": "markdown",
      "metadata": {
        "id": "view-in-github",
        "colab_type": "text"
      },
      "source": [
        "<a href=\"https://colab.research.google.com/github/Amruthamsh/dsa-practice/blob/main/Dynamic_Programming.ipynb\" target=\"_parent\"><img src=\"https://colab.research.google.com/assets/colab-badge.svg\" alt=\"Open In Colab\"/></a>"
      ]
    },
    {
      "cell_type": "code",
      "execution_count": 1,
      "metadata": {
        "colab": {
          "base_uri": "https://localhost:8080/"
        },
        "id": "0EJmDfHot7wK",
        "outputId": "c542add5-d7d3-4d98-ca2c-60609b24279d"
      },
      "outputs": [
        {
          "output_type": "execute_result",
          "data": {
            "text/plain": [
              "12586269025"
            ]
          },
          "metadata": {},
          "execution_count": 1
        }
      ],
      "source": [
        "def fibonacci(n, memo={}):\n",
        "  if n in memo:\n",
        "    return memo[n]\n",
        "  if n <= 2:\n",
        "      return 1\n",
        "  memo[n] = fibonacci(n - 1, memo) + fibonacci(n - 2, memo)\n",
        "  return memo[n]\n",
        "\n",
        "fibonacci(50)"
      ]
    },
    {
      "cell_type": "code",
      "source": [
        "def gridTraveler(m, n, memo={}):\n",
        "  key = str(m) + ',' + str(n)\n",
        "  if key in memo:\n",
        "    return memo[key]\n",
        "  if m == 1 and n == 1:\n",
        "    return 1\n",
        "  if m == 0 or n == 0:\n",
        "    return 0\n",
        "\n",
        "  memo[key] = gridTraveler(m - 1, n, memo) + gridTraveler(m, n - 1, memo)\n",
        "  return memo[key]\n",
        "\n",
        "gridTraveler(18, 18)"
      ],
      "metadata": {
        "colab": {
          "base_uri": "https://localhost:8080/"
        },
        "id": "jNRh_ppfuTtx",
        "outputId": "0d6dc0a5-f5cc-4aef-bda9-5457f4be7fc6"
      },
      "execution_count": 2,
      "outputs": [
        {
          "output_type": "execute_result",
          "data": {
            "text/plain": [
              "2333606220"
            ]
          },
          "metadata": {},
          "execution_count": 2
        }
      ]
    }
  ]
}