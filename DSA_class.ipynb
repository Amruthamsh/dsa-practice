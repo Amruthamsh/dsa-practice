{
  "cells": [
    {
      "cell_type": "markdown",
      "metadata": {
        "id": "view-in-github",
        "colab_type": "text"
      },
      "source": [
        "<a href=\"https://colab.research.google.com/github/Amruthamsh/dsa-practice/blob/main/DSA_class.ipynb\" target=\"_parent\"><img src=\"https://colab.research.google.com/assets/colab-badge.svg\" alt=\"Open In Colab\"/></a>"
      ]
    },
    {
      "cell_type": "code",
      "execution_count": null,
      "metadata": {
        "colab": {
          "base_uri": "https://localhost:8080/"
        },
        "id": "5eDgngztROAK",
        "outputId": "4e54321e-2e7c-4de6-871a-f5b2c7219f39"
      },
      "outputs": [
        {
          "name": "stdout",
          "output_type": "stream",
          "text": [
            "Enter a number: 17\n",
            "4\n"
          ]
        }
      ],
      "source": [
        "# Square Root without using in built function\n",
        "\n",
        "def squareRoot(x):\n",
        "  if(x == 1):\n",
        "    return 1\n",
        "\n",
        "  low = 1\n",
        "  high = x // 2\n",
        "\n",
        "  while low <= high:\n",
        "    mid = (low + high) // 2\n",
        "    square = mid ** 2\n",
        "\n",
        "    if(square == x):\n",
        "      return mid\n",
        "    elif square > x:\n",
        "      high = mid - 1\n",
        "    else:\n",
        "      low = mid + 1\n",
        "\n",
        "  return high\n",
        "\n",
        "x = int(input(\"Enter a number: \"))\n",
        "print(squareRoot(x))"
      ]
    },
    {
      "cell_type": "code",
      "execution_count": null,
      "metadata": {
        "colab": {
          "base_uri": "https://localhost:8080/"
        },
        "id": "boD_jbs3EPVo",
        "outputId": "00911784-6c79-4aae-a460-23f75bc4d4d2"
      },
      "outputs": [
        {
          "name": "stdout",
          "output_type": "stream",
          "text": [
            "[1, 2, 4, 5, 8]\n"
          ]
        }
      ],
      "source": [
        "# Implement Bubble Sort\n",
        "\n",
        "def bubble_sort(list_):\n",
        "  n = len(list_)\n",
        "  for i in range(n-1):\n",
        "    for j in range(n-i-1):\n",
        "      if list_[j] > list_[j+1]:\n",
        "        list_[j], list_[j+1] = list_[j+1], list_[j]\n",
        "\n",
        "list_ = [5, 1, 4, 2, 8]\n",
        "bubble_sort(list_)\n",
        "print(list_)"
      ]
    },
    {
      "cell_type": "code",
      "execution_count": null,
      "metadata": {
        "colab": {
          "base_uri": "https://localhost:8080/"
        },
        "id": "SU1BM7IAGVUD",
        "outputId": "858cf9b3-c0ae-46e8-ee57-02d519dbdb5d"
      },
      "outputs": [
        {
          "name": "stdout",
          "output_type": "stream",
          "text": [
            "24\n"
          ]
        }
      ],
      "source": [
        "# Maximum sum of sub array - Brute Force\n",
        "\n",
        "def maxSumOfSubArray(arr, k):\n",
        "  maxSum = 0\n",
        "  for i in range(len(arr) - k + 1):\n",
        "    sum = 0\n",
        "    for j in range(k):\n",
        "      sum += arr[i + j]\n",
        "    if sum > maxSum:\n",
        "      maxSum = sum\n",
        "  return maxSum\n",
        "\n",
        "print(maxSumOfSubArray([1, 4, 2, 10, 2, 3, 1, 0, 20], 4))"
      ]
    },
    {
      "cell_type": "code",
      "execution_count": null,
      "metadata": {
        "colab": {
          "base_uri": "https://localhost:8080/"
        },
        "id": "N_sAPMeUHtYB",
        "outputId": "e359cb52-1f51-47df-df74-ad4868f386d3"
      },
      "outputs": [
        {
          "name": "stdout",
          "output_type": "stream",
          "text": [
            "24\n"
          ]
        }
      ],
      "source": [
        "# Maximum sum of sub array - Sliding Window\n",
        "\n",
        "def maxSumOfSubArray(arr, k):\n",
        "  maxSum = 0\n",
        "  windowSum = 0\n",
        "  for i in range(k):\n",
        "    windowSum += arr[i]\n",
        "  maxSum = windowSum\n",
        "  for i in range(k, len(arr)):\n",
        "    windowSum += arr[i] - arr[i-k]\n",
        "    maxSum = max(maxSum, windowSum)\n",
        "  return maxSum\n",
        "\n",
        "print(maxSumOfSubArray([1, 4, 2, 10, 2, 3, 1, 0, 20], 4))"
      ]
    },
    {
      "cell_type": "code",
      "execution_count": null,
      "metadata": {
        "colab": {
          "base_uri": "https://localhost:8080/"
        },
        "id": "Ydn2kEJNYmfw",
        "outputId": "f165373d-c0c9-45eb-9551-6ef5d88ee93b"
      },
      "outputs": [
        {
          "name": "stdout",
          "output_type": "stream",
          "text": [
            "Name: Amsh, Age: 21, Student ID: 1DA21CS017\n"
          ]
        }
      ],
      "source": [
        "# Constructor\n",
        "\n",
        "class Student:\n",
        "  def __init__(self, name, age, studentId):\n",
        "    self.name = name\n",
        "    self.age = age\n",
        "    self.studentId = studentId\n",
        "\n",
        "  def display_info(self):\n",
        "    print(f\"Name: {self.name}, Age: {self.age}, Student ID: {self.studentId}\")\n",
        "\n",
        "student1 = Student(\"Amsh\", 21, \"1DA21CS017\")\n",
        "student1.display_info()"
      ]
    },
    {
      "cell_type": "code",
      "execution_count": null,
      "metadata": {
        "colab": {
          "base_uri": "https://localhost:8080/"
        },
        "id": "igNcZhGObpV8",
        "outputId": "a2db89dc-98de-45a3-e9be-6553e0907cd3"
      },
      "outputs": [
        {
          "name": "stdout",
          "output_type": "stream",
          "text": [
            "Enter length: 10\n",
            "Enter breadth: 21\n",
            "210\n"
          ]
        }
      ],
      "source": [
        "# Constructor\n",
        "\n",
        "class Area:\n",
        "  def __init__(self, length, breadth):\n",
        "    self.length = length\n",
        "    self.breadth = breadth\n",
        "\n",
        "  def returnArea(self):\n",
        "    return self.length * self.breadth\n",
        "\n",
        "length = int(input(\"Enter length: \"))\n",
        "breadth = int(input(\"Enter breadth: \"))\n",
        "area = Area(length, breadth)\n",
        "print(\"Area is\", area.returnArea())"
      ]
    },
    {
      "cell_type": "code",
      "execution_count": null,
      "metadata": {
        "colab": {
          "base_uri": "https://localhost:8080/"
        },
        "id": "1iBqu4xwexpH",
        "outputId": "95be8ed6-e42a-41be-c6d6-77abbe8619fa"
      },
      "outputs": [
        {
          "name": "stdout",
          "output_type": "stream",
          "text": [
            "Default Constructor\n",
            "Name: Unknown, Roll No: 0, Fees: 0\n",
            "Name: Amsh, Roll No: 17, Fees: 50000\n"
          ]
        }
      ],
      "source": [
        "class Student:\n",
        "    def __init__(self, name=None, rollno=None, fees=None):\n",
        "        if name is None and rollno is None and fees is None:\n",
        "            print(\"Default Constructor\")\n",
        "            self.name = \"Unknown\"\n",
        "            self.rollno = 0\n",
        "            self.fees = 0\n",
        "        else:\n",
        "            self.name = name\n",
        "            self.rollno = rollno\n",
        "            self.fees = fees\n",
        "\n",
        "    def display_info(self):\n",
        "        print(f\"Name: {self.name}, Roll No: {self.rollno}, Fees: {self.fees}\")\n",
        "\n",
        "# Using default constructor\n",
        "student1 = Student()\n",
        "student1.display_info()\n",
        "\n",
        "# Using parameterized constructor\n",
        "student2 = Student(\"Amsh\", 17, 50000)\n",
        "student2.display_info()\n"
      ]
    },
    {
      "cell_type": "code",
      "execution_count": null,
      "metadata": {
        "colab": {
          "base_uri": "https://localhost:8080/"
        },
        "id": "FIZQXg1EFn29",
        "outputId": "37e370c3-e7d7-4a1f-abda-bb964002335a"
      },
      "outputs": [
        {
          "name": "stdout",
          "output_type": "stream",
          "text": [
            "Enter a binary string: 10001\n",
            "1\n"
          ]
        }
      ],
      "source": [
        "#100100101\n",
        "#100000000\n",
        "\n",
        "str = input(\"Enter a binary string: \")\n",
        "\n",
        "count = 0\n",
        "for i in str:\n",
        "  if(i == '1'):\n",
        "    count += 1\n",
        "\n",
        "print(count-1)"
      ]
    },
    {
      "cell_type": "code",
      "execution_count": null,
      "metadata": {
        "colab": {
          "base_uri": "https://localhost:8080/"
        },
        "id": "nvbmjzCzeHbz",
        "outputId": "3080d976-d8dd-4641-da87-26d7d6ef8d9a"
      },
      "outputs": [
        {
          "name": "stdout",
          "output_type": "stream",
          "text": [
            "[3, 1, 1, 1, 2, 8, 1, 0, 0, 0]\n"
          ]
        }
      ],
      "source": [
        "#push all zeroes to the end of the array\n",
        "\n",
        "arr = [0,0,3,1,1,1,2,8,0,1]\n",
        "\n",
        "count = 0\n",
        "\n",
        "for i in range(len(arr)):\n",
        "  if(arr[i] != 0):\n",
        "    arr[count] = arr[i]\n",
        "    count += 1\n",
        "\n",
        "for i in range(count, len(arr)):\n",
        "  arr[i] = 0\n",
        "\n",
        "print(arr)"
      ]
    },
    {
      "cell_type": "code",
      "execution_count": null,
      "metadata": {
        "colab": {
          "base_uri": "https://localhost:8080/"
        },
        "id": "gGfei3w2fD9k",
        "outputId": "70516848-0284-4bbc-83cd-bb9777e55275"
      },
      "outputs": [
        {
          "name": "stdout",
          "output_type": "stream",
          "text": [
            "World Hello\n"
          ]
        }
      ],
      "source": [
        "#swap two string values without a temp variable\n",
        "\n",
        "str1 = \"Hello\"\n",
        "str2 = \"World\"\n",
        "\n",
        "str1, str2 = str2, str1\n",
        "\n",
        "print(str1, str2)\n",
        "\n",
        "\n",
        "# import java.util.*;\n",
        "\n",
        "# class HelloWorld {\n",
        "#     public static void main(String[] args) {\n",
        "#         Scanner sc = new Scanner(System.in);\n",
        "#         String a = sc.next();\n",
        "#         String b = sc.next();\n",
        "\n",
        "#         a = a + b;\n",
        "\n",
        "#         b = a.substring(0,a.length() - b.length());\n",
        "#         a = a.substring(b.length());\n",
        "\n",
        "#         System.out.println(a);\n",
        "#         System.out.println(b);\n",
        "#     }\n",
        "# }"
      ]
    },
    {
      "cell_type": "code",
      "execution_count": null,
      "metadata": {
        "colab": {
          "base_uri": "https://localhost:8080/"
        },
        "id": "iAQEATwzhyzD",
        "outputId": "f1f57ebc-04a0-49b1-b14b-b599ba7c5b16"
      },
      "outputs": [
        {
          "name": "stdout",
          "output_type": "stream",
          "text": [
            "[5, 1, 2, 3, 4]\n"
          ]
        }
      ],
      "source": [
        "arr = [1,2,3,4,5]\n",
        "\n",
        "last = arr[-1]\n",
        "\n",
        "for i in range(len(arr) - 1,-1,-1):\n",
        "  arr[i] = arr[i-1]\n",
        "\n",
        "arr[0] = last\n",
        "print(arr)\n",
        "\n",
        "\n"
      ]
    },
    {
      "cell_type": "code",
      "execution_count": null,
      "metadata": {
        "colab": {
          "base_uri": "https://localhost:8080/"
        },
        "id": "pmdJMbTIsRpc",
        "outputId": "c6b40f7d-c761-4ab8-c2d2-b65b1dd78637"
      },
      "outputs": [
        {
          "name": "stdout",
          "output_type": "stream",
          "text": [
            "False\n"
          ]
        }
      ],
      "source": [
        "hashmap = {}\n",
        "hashset = set()\n",
        "\n",
        "arr = [1,2]\n",
        "\n",
        "def check(arr):\n",
        "  for i in arr:\n",
        "    if i in hashmap:\n",
        "      hashmap[i] += 1\n",
        "    else:\n",
        "      hashmap[i] = 1\n",
        "\n",
        "  for key,value in hashmap.items():\n",
        "    if value not in hashset:\n",
        "      hashset.add(value)\n",
        "    else:\n",
        "      return False\n",
        "  return True\n",
        "\n",
        "print(check(arr))"
      ]
    },
    {
      "cell_type": "code",
      "execution_count": null,
      "metadata": {
        "colab": {
          "base_uri": "https://localhost:8080/"
        },
        "id": "6vykbDDft3jL",
        "outputId": "01bd15d9-1063-4b39-b94e-5d2c54459194"
      },
      "outputs": [
        {
          "name": "stdout",
          "output_type": "stream",
          "text": [
            "[2, 4]\n"
          ]
        }
      ],
      "source": [
        "arr = [1,2,3,7,5]\n",
        "\n",
        "S = 12\n",
        "\n",
        "def subarraysum(arr, S):\n",
        "  i = 0\n",
        "  j = 0\n",
        "  sum = arr[j]\n",
        "  while i < len(arr):\n",
        "    if(sum == S):\n",
        "      return [i + 1,j + 1]\n",
        "    elif(sum < S):\n",
        "      j += 1\n",
        "      sum += arr[j]\n",
        "    else:\n",
        "      sum -= arr[i]\n",
        "      i += 1\n",
        "  return [-1]\n",
        "\n",
        "print(subarraysum(arr, S))"
      ]
    },
    {
      "cell_type": "code",
      "execution_count": null,
      "metadata": {
        "colab": {
          "base_uri": "https://localhost:8080/"
        },
        "id": "fwO69rTsc_CU",
        "outputId": "8cfe34b0-925c-4105-8bfa-bfbdafcb38f2"
      },
      "outputs": [
        {
          "name": "stdout",
          "output_type": "stream",
          "text": [
            "2\n"
          ]
        }
      ],
      "source": [
        "#missing least positive number in the array\n",
        "\n",
        "arr = [0,-10,1,3,-20]\n",
        "\n",
        "least = 1\n",
        "for i in arr:\n",
        "  if least == i:\n",
        "    least += 1\n",
        "\n",
        "print(least)"
      ]
    },
    {
      "cell_type": "code",
      "execution_count": null,
      "metadata": {
        "colab": {
          "base_uri": "https://localhost:8080/"
        },
        "id": "pwRwmo4UkMJq",
        "outputId": "3c855d8f-760a-4ad6-986c-3a12a34ad9eb"
      },
      "outputs": [
        {
          "name": "stdout",
          "output_type": "stream",
          "text": [
            "1\n"
          ]
        }
      ],
      "source": [
        "# Max Number of K-Sum Pairs\n",
        "\n",
        "nums =[3,1,3,4,3]\n",
        "k = 6\n",
        "pairs = 0\n",
        "\n",
        "l = 0\n",
        "r = len(nums) - 1\n",
        "\n",
        "while l < r:\n",
        "  if nums[l] + nums[r] == k:\n",
        "    l += 1\n",
        "    r -= 1\n",
        "    pairs += 1\n",
        "  elif nums[l] + nums[r] > k:\n",
        "    r -= 1\n",
        "  else:\n",
        "    l += 1\n",
        "\n",
        "print(pairs)"
      ]
    },
    {
      "cell_type": "code",
      "execution_count": null,
      "metadata": {
        "colab": {
          "base_uri": "https://localhost:8080/"
        },
        "id": "wcFBuBjnqaDj",
        "outputId": "2bc9d1a0-d1b2-47d5-a4bc-77f264318147"
      },
      "outputs": [
        {
          "name": "stdout",
          "output_type": "stream",
          "text": [
            "No\n"
          ]
        }
      ],
      "source": [
        "str = \"dshgfjhd sfsd fbadoaidxoco\"\n",
        "\n",
        "isPanagram = True\n",
        "\n",
        "a = [0] * 26\n",
        "\n",
        "for i in str:\n",
        "  if(ord('a') <= ord(i) <= ord('z')):\n",
        "    a[ord(i) - ord('a')] += 1\n",
        "\n",
        "for val in a:\n",
        "  if(val != 0):\n",
        "    isPanagram = False\n",
        "    break\n",
        "\n",
        "if(isPanagram):\n",
        "  print(\"Yes\")\n",
        "else:\n",
        "  print(\"No\")"
      ]
    },
    {
      "cell_type": "code",
      "execution_count": null,
      "metadata": {
        "colab": {
          "base_uri": "https://localhost:8080/"
        },
        "id": "DLbHKJK40ZZy",
        "outputId": "d014e748-00a1-4e60-c0ce-5a4551d717e2"
      },
      "outputs": [
        {
          "name": "stdout",
          "output_type": "stream",
          "text": [
            "1\n",
            "2\n",
            "3\n",
            "4\n",
            "5\n",
            "Length is 5\n"
          ]
        }
      ],
      "source": [
        "#Linked List\n",
        "\n",
        "class Node:\n",
        "  def __init__(self, data):\n",
        "    self.data = data\n",
        "    self.next = None\n",
        "\n",
        "head = Node(1)\n",
        "second = Node(2)\n",
        "third = Node(3)\n",
        "fourth = Node(4)\n",
        "fifth = Node(5)\n",
        "\n",
        "head.next = second\n",
        "head.next.next = third\n",
        "third.next = fourth\n",
        "fourth.next = fifth\n",
        "\n",
        "cur = head\n",
        "len = 0\n",
        "while cur:\n",
        "  print(cur.data)\n",
        "  len += 1\n",
        "  cur = cur.next\n",
        "\n",
        "print(\"Length is\",len)"
      ]
    },
    {
      "cell_type": "code",
      "execution_count": null,
      "metadata": {
        "colab": {
          "base_uri": "https://localhost:8080/"
        },
        "id": "20XYUNJr0SGW",
        "outputId": "dfdf32b2-b108-4cfb-92a9-88bb8968ec31"
      },
      "outputs": [
        {
          "name": "stdout",
          "output_type": "stream",
          "text": [
            "Yes\n"
          ]
        }
      ],
      "source": [
        "# isomorphic or not\n",
        "\n",
        "str1 = \"aabcca\"\n",
        "str2 = \"xxyccx\"\n",
        "\n",
        "for i in range(len(str1)):\n",
        "  if str1.count(str1[i]) != str2.count(str2[i]):\n",
        "    print(\"No\")\n",
        "    break\n",
        "else:\n",
        "  print(\"Yes\")"
      ]
    },
    {
      "cell_type": "code",
      "execution_count": null,
      "metadata": {
        "colab": {
          "base_uri": "https://localhost:8080/"
        },
        "id": "1OLMeNYt4Q3w",
        "outputId": "d9443b7b-f712-4b84-dafd-80edd2c4e24f"
      },
      "outputs": [
        {
          "name": "stdout",
          "output_type": "stream",
          "text": [
            "Yes\n"
          ]
        }
      ],
      "source": [
        "str1 = \"aabcca\"\n",
        "str2 = \"xxyccx\"\n",
        "\n",
        "hashmap1 = {}\n",
        "\n",
        "if len(str1) != len(str2):\n",
        "  print(\"No\")\n",
        "  exit()\n",
        "\n",
        "for i in range(len(str1)):\n",
        "  if str1[i] not in hashmap1:\n",
        "    if str2[i] in hashmap1.values():\n",
        "      print(\"No\")\n",
        "      break\n",
        "    hashmap1[str1[i]] = str2[i]\n",
        "  elif hashmap1[str1[i]] != str2[i]:\n",
        "    print(\"No\")\n",
        "    break\n",
        "else:\n",
        "  print(\"Yes\")"
      ]
    },
    {
      "cell_type": "code",
      "execution_count": null,
      "metadata": {
        "colab": {
          "base_uri": "https://localhost:8080/"
        },
        "id": "feevn3e_93Ff",
        "outputId": "1adfa754-a219-48bb-91e0-6cfa0000ec3c"
      },
      "outputs": [
        {
          "data": {
            "text/plain": [
              "True"
            ]
          },
          "execution_count": 22,
          "metadata": {},
          "output_type": "execute_result"
        }
      ],
      "source": [
        "s = \"aabcca\"\n",
        "t = \"xxyccx\"\n",
        "\n",
        "len(set(zip(s, t))) == len(set(s)) == len(set(t))"
      ]
    },
    {
      "cell_type": "code",
      "execution_count": null,
      "metadata": {
        "colab": {
          "base_uri": "https://localhost:8080/"
        },
        "id": "gvVCBwrG1Uh2",
        "outputId": "b0a756a9-91ed-4702-b412-933410acfb5b"
      },
      "outputs": [
        {
          "name": "stdout",
          "output_type": "stream",
          "text": [
            "10\n"
          ]
        }
      ],
      "source": [
        "# Find the Kth Largest Integer in the Array\n",
        "\n",
        "nums = [\"3\",\"6\",\"7\",\"10\"]\n",
        "k = 4\n",
        "\n",
        "nums.sort()\n",
        "print(str(nums[-k]))"
      ]
    },
    {
      "cell_type": "code",
      "execution_count": null,
      "metadata": {
        "colab": {
          "base_uri": "https://localhost:8080/"
        },
        "id": "RBy0YZSVSbZ-",
        "outputId": "4da2a800-04d5-4ca1-cc17-88c285c13dee"
      },
      "outputs": [
        {
          "name": "stdout",
          "output_type": "stream",
          "text": [
            "[[1, 2, 3], [1, 3, 2], [2, 1, 3], [2, 3, 1], [3, 2, 1], [3, 1, 2]]\n"
          ]
        }
      ],
      "source": [
        "# Given an array nums of distinct integers, return all the possible permutations. You can return the answer in any order.\n",
        "\n",
        "nums = [1,2,3]\n",
        "\n",
        "result = []\n",
        "\n",
        "def permute_rec(nums, current_index, result):\n",
        "  if current_index == len(nums) - 1:\n",
        "    result.append(nums.copy())\n",
        "    return\n",
        "\n",
        "  for index in range(current_index, len(nums)):\n",
        "    nums[current_index], nums[index] = nums[index], nums[current_index]\n",
        "    permute_rec(nums, current_index + 1, result)\n",
        "    nums[current_index], nums[index] = nums[index], nums[current_index]\n",
        "\n",
        "permute_rec(nums, 0, result)\n",
        "print(result)"
      ]
    },
    {
      "cell_type": "code",
      "execution_count": null,
      "metadata": {
        "colab": {
          "background_save": true,
          "base_uri": "https://localhost:8080/"
        },
        "id": "e0rCrJHtWqus",
        "outputId": "ae8fd7cd-9b67-4163-cb71-b0cc262ffb80"
      },
      "outputs": [
        {
          "data": {
            "text/plain": [
              "2"
            ]
          },
          "execution_count": 62,
          "metadata": {},
          "output_type": "execute_result"
        }
      ],
      "source": [
        "s = \"31[a]2[bc]\"\n",
        "\n",
        "arr = s.find('[')\n",
        "\n",
        "arr"
      ]
    },
    {
      "cell_type": "code",
      "source": [
        "class Stack:\n",
        "    def __init__(self):\n",
        "        self.a = [0] * 10\n",
        "        self.top1 = -1\n",
        "        self.top2 = 0\n",
        "\n",
        "    def resize(self):\n",
        "        new_size = len(self.a) * 2\n",
        "        new_array = [0] * new_size\n",
        "\n",
        "        # Copy elements for Stack 1\n",
        "        for i in range(0, self.top1 + 1, 2):\n",
        "            new_array[i] = self.a[i]\n",
        "\n",
        "        # Copy elements for Stack 2\n",
        "        for i in range(1, self.top2 + 1, 2):\n",
        "            new_array[i] = self.a[i]\n",
        "\n",
        "        self.a = new_array\n",
        "\n",
        "    def push1(self, x):\n",
        "        if self.top1 + 2 >= len(self.a):  # Check for overflow\n",
        "            self.resize()\n",
        "        self.top1 += 2\n",
        "        self.a[self.top1] = x\n",
        "\n",
        "    def push2(self, x):\n",
        "        if self.top2 + 2 >= len(self.a):  # Check for overflow\n",
        "            self.resize()\n",
        "        self.top2 += 2\n",
        "        self.a[self.top2] = x\n",
        "\n",
        "    def pop1(self):\n",
        "        if self.top1 >= 0:\n",
        "            value = self.a[self.top1]\n",
        "            self.top1 -= 2\n",
        "            return value\n",
        "        else:\n",
        "            print(\"Stack Underflow in Stack 1\")\n",
        "            return None\n",
        "\n",
        "    def pop2(self):\n",
        "        if self.top2 >= 0:\n",
        "            value = self.a[self.top2]\n",
        "            self.top2 -= 2\n",
        "            return value\n",
        "        else:\n",
        "            print(\"Stack Underflow in Stack 2\")\n",
        "            return None\n",
        "\n",
        "# Usage\n",
        "stack = Stack()\n",
        "stack.push1(1)\n",
        "stack.push1(2)\n",
        "stack.push2(3)\n",
        "stack.push2(4)\n",
        "\n",
        "# Pushing more elements to cause a resize\n",
        "for i in range(5, 10):\n",
        "    stack.push1(i)\n",
        "    stack.push2(i + 10)\n",
        "\n",
        "print(stack.pop1())  # Output: 9\n",
        "print(stack.pop2())  # Output: 19\n"
      ],
      "metadata": {
        "colab": {
          "base_uri": "https://localhost:8080/"
        },
        "id": "CQLoha6q-ufT",
        "outputId": "05138188-fb27-47c2-d222-5a6f72651a87"
      },
      "execution_count": null,
      "outputs": [
        {
          "output_type": "stream",
          "name": "stdout",
          "text": [
            "9\n",
            "19\n"
          ]
        }
      ]
    },
    {
      "cell_type": "code",
      "source": [
        "class TwoStacks:\n",
        "    def __init__(self, size):\n",
        "        self.size = size\n",
        "        self.array = [0] * size\n",
        "        self.top1 = -1\n",
        "        self.top2 = size\n",
        "\n",
        "    def push1(self, x):\n",
        "        if self.top1 < self.top2 - 1:  # Ensure there's space between the two stacks\n",
        "            self.top1 += 1\n",
        "            self.array[self.top1] = x\n",
        "        else:\n",
        "            print(\"Stack Overflow in Stack 1\")\n",
        "\n",
        "    def push2(self, x):\n",
        "        if self.top1 < self.top2 - 1:  # Ensure there's space between the two stacks\n",
        "            self.top2 -= 1\n",
        "            self.array[self.top2] = x\n",
        "        else:\n",
        "            print(\"Stack Overflow in Stack 2\")\n",
        "\n",
        "    def pop1(self):\n",
        "        if self.top1 >= 0:\n",
        "            x = self.array[self.top1]\n",
        "            self.top1 -= 1\n",
        "            return x\n",
        "        else:\n",
        "            print(\"Stack Underflow in Stack 1\")\n",
        "            return None\n",
        "\n",
        "    def pop2(self):\n",
        "        if self.top2 < self.size:\n",
        "            x = self.array[self.top2]\n",
        "            self.top2 += 1\n",
        "            return x\n",
        "        else:\n",
        "            print(\"Stack Underflow in Stack 2\")\n",
        "            return None\n",
        "\n",
        "# Usage\n",
        "stacks = TwoStacks(10)\n",
        "stacks.push1(1)\n",
        "stacks.push1(2)\n",
        "stacks.push2(3)\n",
        "stacks.push2(4)\n",
        "\n",
        "print(stacks.pop1())  # Output: 2\n",
        "print(stacks.pop2())  # Output: 4\n"
      ],
      "metadata": {
        "colab": {
          "base_uri": "https://localhost:8080/"
        },
        "id": "LQZvn6SoC8Fi",
        "outputId": "dd9d3cf5-fcc4-4df1-8334-70190aaf694c"
      },
      "execution_count": null,
      "outputs": [
        {
          "output_type": "stream",
          "name": "stdout",
          "text": [
            "2\n",
            "4\n"
          ]
        }
      ]
    },
    {
      "cell_type": "code",
      "source": [
        "# input = \"11101011\"\n",
        "# output = \"cab\"\n",
        "\n",
        "input = \"11101011\"\n",
        "len1 = 0\n",
        "output = \"\"\n",
        "\n",
        "for i in input:\n",
        "  if i == '1':\n",
        "    len1 += 1\n",
        "  else:\n",
        "    c = chr(ord('a') + len1 - 1)\n",
        "    output += c\n",
        "    len1 = 0\n",
        "\n",
        "if len1 != 0:\n",
        "  c = chr(ord('a') + len1 - 1)\n",
        "  output += c\n",
        "print(output)"
      ],
      "metadata": {
        "colab": {
          "base_uri": "https://localhost:8080/"
        },
        "id": "ivVwRyLX_RRA",
        "outputId": "f5efea62-95fa-4174-f6b1-165fcaa0066e"
      },
      "execution_count": null,
      "outputs": [
        {
          "output_type": "stream",
          "name": "stdout",
          "text": [
            "cab\n"
          ]
        }
      ]
    },
    {
      "cell_type": "code",
      "source": [
        "sentence = \"India is my country\"\n",
        "reverse = \"\"\n",
        "n = len(sentence) - 1\n",
        "\n",
        "for l in sentence:\n",
        "  r = sentence[n]\n",
        "  if l == ' ':\n",
        "    reverse += ' '\n",
        "  if r != ' ':\n",
        "    reverse += r\n",
        "  n -= 1\n",
        "\n",
        "print(sentence)\n",
        "print(reverse)"
      ],
      "metadata": {
        "id": "9BAL3iicd2Em",
        "colab": {
          "base_uri": "https://localhost:8080/"
        },
        "outputId": "31d1c0ac-4c5d-4aa3-ea51-2f0786d0640c"
      },
      "execution_count": null,
      "outputs": [
        {
          "output_type": "stream",
          "name": "stdout",
          "text": [
            "India is my country\n",
            "yrtnu oc ym siaidnI\n"
          ]
        }
      ]
    },
    {
      "cell_type": "code",
      "source": [
        "input_string = \"longestsubstring\"\n",
        "charSet = set()\n",
        "\n",
        "l = 0\n",
        "maxsub = \"\"\n",
        "maxLen = 0\n",
        "\n",
        "for r in range(len(input_string)):\n",
        "    while input_string[r] in charSet:\n",
        "        charSet.remove(input_string[l])\n",
        "        l += 1\n",
        "    charSet.add(input_string[r])\n",
        "\n",
        "    if r - l + 1 > maxLen:\n",
        "        maxLen = r - l + 1\n",
        "        maxsub = input_string[l:r+1]\n",
        "\n",
        "print(maxsub)\n"
      ],
      "metadata": {
        "id": "uroWZlflizCn",
        "colab": {
          "base_uri": "https://localhost:8080/"
        },
        "outputId": "79fba5d3-2892-4227-e599-24f4eb4c00a4"
      },
      "execution_count": null,
      "outputs": [
        {
          "output_type": "stream",
          "name": "stdout",
          "text": [
            "ubstring\n"
          ]
        }
      ]
    },
    {
      "cell_type": "code",
      "source": [
        "# check if strings are rotations of each other\n",
        "\n",
        "str1 = \"ABCD\"\n",
        "str2 = \"CDAB\"\n",
        "\n",
        "if len(str1) != len(str2):\n",
        "  print(\"No\")\n",
        "else:\n",
        "  str3 = str1 + str1\n",
        "  if str2 in str3:\n",
        "    print(\"Yes\")\n",
        "  else:\n",
        "    print(\"No\")"
      ],
      "metadata": {
        "colab": {
          "base_uri": "https://localhost:8080/"
        },
        "id": "PxWzThRanlAe",
        "outputId": "f9ab5de8-60b7-47e5-fe7b-067071761af3"
      },
      "execution_count": null,
      "outputs": [
        {
          "output_type": "stream",
          "name": "stdout",
          "text": [
            "Yes\n"
          ]
        }
      ]
    },
    {
      "cell_type": "code",
      "source": [
        "# leaders in an integer array\n",
        "\n",
        "arr = [7,10,4,3,6,5,2,1]\n",
        "leaders = []\n",
        "lastLeader = -1\n",
        "for i in range(len(arr)-1,0,-1):\n",
        "  if(lastLeader < arr[i]):\n",
        "    lastLeader = arr[i]\n",
        "    leaders.append(lastLeader)\n",
        "\n",
        "print(leaders)"
      ],
      "metadata": {
        "colab": {
          "base_uri": "https://localhost:8080/"
        },
        "id": "ud1S319wq6-W",
        "outputId": "238ec34a-a8b2-432b-b3ce-6d253dbf2ac0"
      },
      "execution_count": null,
      "outputs": [
        {
          "output_type": "stream",
          "name": "stdout",
          "text": [
            "[1, 2, 5, 6, 10]\n"
          ]
        }
      ]
    },
    {
      "cell_type": "code",
      "source": [
        "nums = [0,1,0,3,12]\n",
        "\n",
        "for i in range(len(nums)):\n",
        "  if nums[i] == 0:\n",
        "    nums.remove(0)\n",
        "    nums.append(0)\n",
        "\n",
        "print(nums)"
      ],
      "metadata": {
        "colab": {
          "base_uri": "https://localhost:8080/"
        },
        "id": "Piowvgjm-gIi",
        "outputId": "5b278b91-f2de-4db3-99e7-64e89db4871e"
      },
      "execution_count": null,
      "outputs": [
        {
          "output_type": "stream",
          "name": "stdout",
          "text": [
            "[1, 3, 12, 0, 0]\n"
          ]
        }
      ]
    },
    {
      "cell_type": "code",
      "source": [
        "nums = [0,1,1,0,0,1,0]\n",
        "count0=0\n",
        "count1=0\n",
        "countofsub=0\n",
        "\n",
        "for i in range(len(nums)):\n",
        "  if nums[i] == 0:\n",
        "    count0+=1\n",
        "  if nums[i] == 1:\n",
        "    count1+=1\n",
        "  if count0==count1:\n",
        "    countofsub+=1\n",
        "\n",
        "print(countofsub)"
      ],
      "metadata": {
        "colab": {
          "base_uri": "https://localhost:8080/"
        },
        "id": "KS1ZzDmdA9rh",
        "outputId": "c4b670e6-fbf9-4c53-e3a1-1912e2a761c8"
      },
      "execution_count": null,
      "outputs": [
        {
          "output_type": "stream",
          "name": "stdout",
          "text": [
            "3\n"
          ]
        }
      ]
    },
    {
      "cell_type": "code",
      "source": [
        "# HCF of two numbers\n",
        "\n",
        "a = 70\n",
        "b = 15\n",
        "\n",
        "while a != b:\n",
        "  if a > b:\n",
        "    a -= b\n",
        "  else:\n",
        "    b -= a\n",
        "\n",
        "print(a)"
      ],
      "metadata": {
        "colab": {
          "base_uri": "https://localhost:8080/"
        },
        "id": "exU1QgXzcygC",
        "outputId": "61f22d6a-d70a-4de3-907b-37869479f050"
      },
      "execution_count": null,
      "outputs": [
        {
          "output_type": "stream",
          "name": "stdout",
          "text": [
            "5\n"
          ]
        }
      ]
    },
    {
      "cell_type": "code",
      "source": [
        "a = \"a5b2a3c7d8\"\n",
        "orig = [0] * 255\n",
        "res = \"\"\n",
        "\n",
        "for i in range(0, len(a), 2):\n",
        "  orig[ord(a[i])] += int(a[i + 1])\n",
        "\n",
        "for i in range(len(orig)):\n",
        "  if orig[i] != 0:\n",
        "    res += chr(i)\n",
        "    res += str(orig[i])\n",
        "\n",
        "print(res)"
      ],
      "metadata": {
        "colab": {
          "base_uri": "https://localhost:8080/"
        },
        "id": "mTzOOcesdchZ",
        "outputId": "3c554810-aaa6-4171-deb7-11848ed4c23c"
      },
      "execution_count": null,
      "outputs": [
        {
          "output_type": "stream",
          "name": "stdout",
          "text": [
            "a8b2c7d8\n"
          ]
        }
      ]
    },
    {
      "cell_type": "code",
      "source": [
        "dec = 4\n",
        "bin = \"0\"\n",
        "\n",
        "while dec > 0:\n",
        "  bin = str(dec % 2) + bin\n",
        "  dec = dec // 2\n",
        "\n",
        "print(bin)"
      ],
      "metadata": {
        "colab": {
          "base_uri": "https://localhost:8080/"
        },
        "id": "bIYbzzUX606J",
        "outputId": "a4fda450-6933-4fdb-fb16-b7a6aae79acc"
      },
      "execution_count": null,
      "outputs": [
        {
          "output_type": "stream",
          "name": "stdout",
          "text": [
            "100\n"
          ]
        }
      ]
    },
    {
      "cell_type": "code",
      "source": [
        "n = int(input(\"enter size\"))\n",
        "\n",
        "a = 0\n",
        "b = 1\n",
        "for i in range(1,n+1):\n",
        "  for j in range(1,i+1):\n",
        "    c = a + b\n",
        "    print(c, end=' ')\n",
        "    a = b\n",
        "    b = c\n",
        "  print()\n"
      ],
      "metadata": {
        "colab": {
          "base_uri": "https://localhost:8080/"
        },
        "id": "N8FMb42TTWAh",
        "outputId": "5ba7897d-4ed6-47e0-8f2e-2836af97e8dd"
      },
      "execution_count": null,
      "outputs": [
        {
          "output_type": "stream",
          "name": "stdout",
          "text": [
            "enter size5\n",
            "1 \n",
            "2 3 \n",
            "5 8 13 \n",
            "21 34 55 89 \n",
            "144 233 377 610 987 \n"
          ]
        }
      ]
    },
    {
      "cell_type": "code",
      "source": [
        "year = 1932\n",
        "\n",
        "if year % 400 == 0:\n",
        "  print(\"Leap Year\")\n",
        "  exit()\n",
        "if year % 100 == 0:\n",
        "  print(\"Not a Leap Year\")\n",
        "  exit()\n",
        "if year % 4 == 0:\n",
        "  print(\"Leap Year\")"
      ],
      "metadata": {
        "colab": {
          "base_uri": "https://localhost:8080/"
        },
        "id": "OCJhW9xTXVBH",
        "outputId": "463dfc67-9837-4e1e-9a7f-62cd87907f80"
      },
      "execution_count": null,
      "outputs": [
        {
          "output_type": "stream",
          "name": "stdout",
          "text": [
            "Leap Year\n"
          ]
        }
      ]
    },
    {
      "cell_type": "code",
      "source": [
        "class Node:\n",
        "  def __init__(self, data):\n",
        "    self.data = data\n",
        "    self.next = None\n",
        "\n",
        "head = Node(1)\n",
        "second = Node(2)\n",
        "third = Node(3)\n",
        "fourth = Node(4)\n",
        "fifth = Node(5)\n",
        "\n",
        "head.next = second\n",
        "head.next.next = third\n",
        "third.next = fourth\n",
        "fourth.next = fifth\n",
        "\n",
        "cur = head\n",
        "i = 1\n",
        "n = 3\n",
        "while cur:\n",
        "  prev = cur\n",
        "  cur = cur.next\n",
        "  if i == n:\n",
        "    print(head.data)\n",
        "    break\n",
        "  i += 1"
      ],
      "metadata": {
        "colab": {
          "base_uri": "https://localhost:8080/"
        },
        "id": "DeiCfD02ZMxm",
        "outputId": "d9419f94-9308-4e82-9ce3-ad31640bf51a"
      },
      "execution_count": null,
      "outputs": [
        {
          "output_type": "stream",
          "name": "stdout",
          "text": [
            "1\n"
          ]
        }
      ]
    },
    {
      "cell_type": "code",
      "source": [
        "ascII = [103, 104, 105]\n",
        "\n",
        "string = ''.join(map(chr, ascII))\n",
        "print(string)"
      ],
      "metadata": {
        "colab": {
          "base_uri": "https://localhost:8080/"
        },
        "id": "RzLbZodTaWF2",
        "outputId": "b77d8f82-6280-4556-da13-8f9342e3c045"
      },
      "execution_count": null,
      "outputs": [
        {
          "output_type": "stream",
          "name": "stdout",
          "text": [
            "ghi\n"
          ]
        }
      ]
    },
    {
      "cell_type": "code",
      "source": [
        "prices = [100, 180, 260, 310, 40, 535, 695]\n",
        "\n",
        "sum = curSum = 0\n",
        "l = r = 0\n",
        "n = len(prices)\n",
        "\n",
        "while r < n-1:\n",
        "  if prices[r + 1] > prices[r]:\n",
        "    curSum = prices[r + 1] - prices[l]\n",
        "  else:\n",
        "    sum += curSum\n",
        "    l = r+1\n",
        "  r += 1\n",
        "\n",
        "sum += curSum\n",
        "print(sum)"
      ],
      "metadata": {
        "colab": {
          "base_uri": "https://localhost:8080/"
        },
        "id": "DwdGtYZqOT7Y",
        "outputId": "765548b4-fe6e-4c99-fee5-c4e60deaf9e6"
      },
      "execution_count": null,
      "outputs": [
        {
          "output_type": "stream",
          "name": "stdout",
          "text": [
            "865\n"
          ]
        }
      ]
    },
    {
      "cell_type": "code",
      "source": [
        "prices = [100, 180, 260, 310, 40, 535, 695]\n",
        "result = 0\n",
        "\n",
        "for i in range(1, len(prices)):\n",
        "  if prices[i] > prices[i - 1]:\n",
        "    result += prices[i] - prices[i - 1]\n",
        "\n",
        "print(result)"
      ],
      "metadata": {
        "colab": {
          "base_uri": "https://localhost:8080/"
        },
        "id": "0QoaXKzUXDXu",
        "outputId": "cf2efc5c-5642-4d15-910a-943ead8d8a4e"
      },
      "execution_count": null,
      "outputs": [
        {
          "output_type": "stream",
          "name": "stdout",
          "text": [
            "865\n"
          ]
        }
      ]
    },
    {
      "cell_type": "code",
      "source": [
        "class Node:\n",
        "  def __init__(self, data):\n",
        "    self.data = data\n",
        "    self.next = None\n",
        "\n",
        "head = Node(1)\n",
        "second = Node(2)\n",
        "third = Node(3)\n",
        "fourth = Node(4)\n",
        "fifth = Node(5)\n",
        "\n",
        "head.next = second\n",
        "head.next.next = third\n",
        "third.next = fourth\n",
        "fourth.next = fifth\n",
        "\n",
        "prev = None\n",
        "cur = head\n",
        "while cur:\n",
        "  curNext = cur.next\n",
        "  cur.next = prev\n",
        "  prev = cur\n",
        "  cur = curNext\n",
        "head = prev\n",
        "\n",
        "cur = head\n",
        "while cur:\n",
        "  print(cur.data)\n",
        "  cur = cur.next"
      ],
      "metadata": {
        "colab": {
          "base_uri": "https://localhost:8080/"
        },
        "id": "YiLlPe7qXQaF",
        "outputId": "58ae7ecf-77b2-4f91-b7df-5a174c50bf17"
      },
      "execution_count": null,
      "outputs": [
        {
          "output_type": "stream",
          "name": "stdout",
          "text": [
            "5\n",
            "4\n",
            "3\n",
            "2\n",
            "1\n"
          ]
        }
      ]
    },
    {
      "cell_type": "code",
      "source": [
        "matrix = [\n",
        "  [1, 2, 3],\n",
        "  [4, 5, 6],\n",
        "  [7, 8, 9]\n",
        "]\n",
        "\n",
        "# Step 1: Transpose the matrix\n",
        "for i in range(len(matrix)):\n",
        "    for j in range(i, len(matrix)):\n",
        "        matrix[i][j], matrix[j][i] = matrix[j][i], matrix[i][j]\n",
        "\n",
        "# Step 2: Reverse each row\n",
        "for i in range(len(matrix)):\n",
        "    matrix[i].reverse()\n",
        "\n",
        "print(matrix)\n"
      ],
      "metadata": {
        "colab": {
          "base_uri": "https://localhost:8080/"
        },
        "id": "P5tRdjnggZlO",
        "outputId": "7c6f39fd-d14b-4ce0-86aa-0e7b5b88d121"
      },
      "execution_count": null,
      "outputs": [
        {
          "output_type": "stream",
          "name": "stdout",
          "text": [
            "[[7, 4, 1], [8, 5, 2], [9, 6, 3]]\n"
          ]
        }
      ]
    },
    {
      "cell_type": "code",
      "source": [
        "matrix = [\n",
        "  [3,2,3],\n",
        "  [4,9,5],\n",
        "  [6,7,0]\n",
        "]\n",
        "\n",
        "zeroEncountered = False\n",
        "\n",
        "for i in range(len(matrix)):\n",
        "  for j in range(len(matrix[0])):\n",
        "    if matrix[i][j] == 0:\n",
        "      for k in range(len(matrix)):\n",
        "        matrix[k][j] = 0\n",
        "      for l in range(0, len(matrix[0])):\n",
        "        matrix[i][l] = 0\n",
        "      zeroEncountered = True\n",
        "      break\n",
        "  if zeroEncountered:\n",
        "    break\n",
        "\n",
        "print(matrix)"
      ],
      "metadata": {
        "colab": {
          "base_uri": "https://localhost:8080/"
        },
        "id": "fMj3xSA21TWP",
        "outputId": "69b83a70-6861-434b-dac2-069e65d52eee"
      },
      "execution_count": null,
      "outputs": [
        {
          "output_type": "stream",
          "name": "stdout",
          "text": [
            "[[3, 2, 0], [4, 9, 0], [0, 0, 0]]\n"
          ]
        }
      ]
    },
    {
      "cell_type": "code",
      "source": [
        "# Non-Cyclical Number\n",
        "\n",
        "n = int(input(\"enter a number \"))\n",
        "\n",
        "numbers = set()\n",
        "\n",
        "while n not in numbers:\n",
        "  numbers.add(n)\n",
        "  n = sum([int(i) ** 2 for i in str(n)])\n",
        "\n",
        "  if n == 1:\n",
        "    print(\"Happy Number\")\n",
        "    break\n",
        "else:\n",
        "  print(\"Sad Number\")\n"
      ],
      "metadata": {
        "colab": {
          "base_uri": "https://localhost:8080/"
        },
        "id": "g6Mt2WKF5buF",
        "outputId": "c5ff7a1b-c013-40ca-9eb4-b58ba21cdf08"
      },
      "execution_count": null,
      "outputs": [
        {
          "output_type": "stream",
          "name": "stdout",
          "text": [
            "enter a number6\n",
            "Sad Number\n"
          ]
        }
      ]
    },
    {
      "cell_type": "code",
      "source": [
        "input_string = \"796115110113721110141108\"\n",
        "\n",
        "# Reverse the input string\n",
        "rev = input_string[::-1]\n",
        "res = \"\"\n",
        "i = 0\n",
        "\n",
        "while i < len(rev) - 1:\n",
        "  x = rev[i] + rev[i + 1]\n",
        "  if x == \"32\":\n",
        "    res = res + \" \"\n",
        "  elif int(x) in range(65, 91) or int(x) in range(97, 100):\n",
        "    res = res + chr(int(x))\n",
        "  elif i + 2 < len(rev) - 1:\n",
        "    x = rev[i] + rev[i + 1] + rev[i + 2]\n",
        "    res = res + chr(int(x))\n",
        "    i += 1\n",
        "  i += 2\n",
        "\n",
        "print(res)\n"
      ],
      "metadata": {
        "colab": {
          "base_uri": "https://localhost:8080/"
        },
        "id": "CIF55f2xR9lb",
        "outputId": "cbb95c73-b377-47f9-f1cb-5bde541f0624"
      },
      "execution_count": null,
      "outputs": [
        {
          "output_type": "stream",
          "name": "stdout",
          "text": [
            "PrepInsta\n"
          ]
        }
      ]
    },
    {
      "cell_type": "code",
      "source": [
        "input_str = \"PPPPPP@PPP@PP$PP\"\n",
        "\n",
        "groups = input_str.split(\"@\")\n",
        "min_len = float('inf')\n",
        "for g in groups:\n",
        "  subgroups = g.split(\"$\")\n",
        "  lengths = [len(subgroup) for subgroup in subgroups]\n",
        "  min_len = min(min(lengths), min_len)\n",
        "\n",
        "print(min_len)\n",
        "\n"
      ],
      "metadata": {
        "colab": {
          "base_uri": "https://localhost:8080/"
        },
        "id": "EsmGWxObXqqL",
        "outputId": "20fe8b69-379d-45cf-cf22-59e2d72b0e1d"
      },
      "execution_count": null,
      "outputs": [
        {
          "output_type": "stream",
          "name": "stdout",
          "text": [
            "2\n"
          ]
        }
      ]
    },
    {
      "cell_type": "code",
      "source": [
        "a = \"ashley\"\n",
        "b = \"ash\"\n",
        "t = 2\n",
        "\n",
        "length = len(a) + len(b)\n",
        "same = 0\n",
        "for i in range(min(len(a), len(b))):\n",
        "  if a[i] == b[i]:\n",
        "    same += 1\n",
        "  else:\n",
        "    break\n",
        "\n",
        "if length - same*2 <= t:\n",
        "  print(\"Yes\")\n",
        "else:\n",
        "  print(\"No\")"
      ],
      "metadata": {
        "colab": {
          "base_uri": "https://localhost:8080/"
        },
        "id": "FgYa1rkea3qo",
        "outputId": "90f7a82c-2ce6-4cb3-e230-f8ab5d5571a5"
      },
      "execution_count": null,
      "outputs": [
        {
          "output_type": "stream",
          "name": "stdout",
          "text": [
            "No\n"
          ]
        }
      ]
    },
    {
      "cell_type": "code",
      "source": [
        "nums = [1,3,2,4,5,1,7]\n",
        "all_nums = set()\n",
        "missing = 1\n",
        "\n",
        "for i in nums:\n",
        "  all_nums.add(i)\n",
        "  while missing in all_nums:\n",
        "    missing += 1\n",
        "\n",
        "print(missing)"
      ],
      "metadata": {
        "colab": {
          "base_uri": "https://localhost:8080/"
        },
        "id": "BiaAa_bzdOJI",
        "outputId": "93052a47-bf8a-4b26-ee32-899ff4fbbd41"
      },
      "execution_count": null,
      "outputs": [
        {
          "output_type": "stream",
          "name": "stdout",
          "text": [
            "6\n"
          ]
        }
      ]
    },
    {
      "cell_type": "code",
      "source": [
        "a = [[1,2,3],[4,5,6],[9,8,9]]\n",
        "\n",
        "sum = 0\n",
        "sum2 = 0\n",
        "for i in range(len(a)):\n",
        "  sum += a[i][i]\n",
        "for i in range(len(a)):\n",
        "  sum2 += a[i][len(a)-i-1]\n",
        "\n",
        "print(abs(sum2 - sum))"
      ],
      "metadata": {
        "colab": {
          "base_uri": "https://localhost:8080/"
        },
        "id": "EKSJ1dlRjMjN",
        "outputId": "72e3e96e-f816-4521-c36e-3e3c213200ec"
      },
      "execution_count": null,
      "outputs": [
        {
          "output_type": "stream",
          "name": "stdout",
          "text": [
            "2\n"
          ]
        }
      ]
    },
    {
      "cell_type": "code",
      "source": [
        "dates = ['01-1989', '04-1967', '06-2012', '10-2012', '12-2000']\n",
        "\n",
        "# Function to extract the sort key (year, month) from a date string\n",
        "def sort_key(date):\n",
        "    month, year = date.split('-')\n",
        "    return int(year), int(month)\n",
        "\n",
        "# Sorting the dates using the sort_key function\n",
        "sorted_dates = sorted(dates, key=sort_key)\n",
        "\n",
        "print(sorted_dates)\n"
      ],
      "metadata": {
        "colab": {
          "base_uri": "https://localhost:8080/"
        },
        "id": "H62Dc0VllRX2",
        "outputId": "e44ab6f8-baa2-4b01-ecb5-d43f41d3ff57"
      },
      "execution_count": null,
      "outputs": [
        {
          "output_type": "stream",
          "name": "stdout",
          "text": [
            "['04-1967', '01-1989', '12-2000', '06-2012', '10-2012']\n"
          ]
        }
      ]
    },
    {
      "cell_type": "code",
      "source": [
        "price = {'A':100,'B':250,'C':200,'D':1250,'E':750}\n",
        "\n",
        "items_list = ['A',2,'D',6,'E',1]\n",
        "\n",
        "extra_amount = 0\n",
        "\n",
        "for item in range(0,len(items_list),2):\n",
        "  if(items_list[item+1] < 2):\n",
        "    extraPercent = 0\n",
        "  elif(items_list[item+1] < 5):\n",
        "    extraPercent = 0.01\n",
        "  elif(items_list[item+1] < 10):\n",
        "    extraPercent = .05\n",
        "  else:\n",
        "    extraPercent = .1\n",
        "\n",
        "  extra_amount += price[items_list[item]] * items_list[item+1] * extraPercent\n",
        "\n",
        "print(extra_amount)"
      ],
      "metadata": {
        "colab": {
          "base_uri": "https://localhost:8080/"
        },
        "id": "uF4brVTbqyc6",
        "outputId": "f2b00785-4d85-498c-afb3-44d1c26f6a3c"
      },
      "execution_count": null,
      "outputs": [
        {
          "output_type": "stream",
          "name": "stdout",
          "text": [
            "377.0\n"
          ]
        }
      ]
    },
    {
      "cell_type": "code",
      "source": [
        "nums = [1,1,2,4,2,3,3]\n",
        "res = 0\n",
        "for n in nums:\n",
        "  res = n ^ res\n",
        "print(res)"
      ],
      "metadata": {
        "colab": {
          "base_uri": "https://localhost:8080/"
        },
        "id": "FKtNQXuAUUxn",
        "outputId": "bee030f3-62b4-4c50-83c8-f0a3bdcb5e5c"
      },
      "execution_count": null,
      "outputs": [
        {
          "output_type": "stream",
          "name": "stdout",
          "text": [
            "4\n"
          ]
        }
      ]
    },
    {
      "cell_type": "code",
      "source": [
        "nums = [1,2,3]\n",
        "subset = []\n",
        "res = []\n",
        "def dfs(i):\n",
        "  if i >= len(nums):\n",
        "    print(subset)\n",
        "    res.append(subset.copy())\n",
        "    return\n",
        "  subset.append(nums[i])\n",
        "  dfs(i + 1)\n",
        "  subset.pop()\n",
        "  dfs(i + 1)\n",
        "\n",
        "dfs(0)\n",
        "print(res)"
      ],
      "metadata": {
        "colab": {
          "base_uri": "https://localhost:8080/"
        },
        "id": "06VwMnZ2kwIm",
        "outputId": "fcb5e4fe-617a-4d4b-b728-a79bd3634677"
      },
      "execution_count": null,
      "outputs": [
        {
          "output_type": "stream",
          "name": "stdout",
          "text": [
            "[1, 2, 3]\n",
            "[[1, 2, 3]]\n"
          ]
        }
      ]
    },
    {
      "cell_type": "code",
      "source": [
        "res = []\n",
        "digitToChar = {\n",
        "  \"2\": \"abc\",\n",
        "  \"3\": \"def\",\n",
        "  \"4\": \"ghi\",\n",
        "  \"5\": \"jkl\",\n",
        "  \"6\": \"mno\",\n",
        "  \"7\": \"qprs\",\n",
        "  \"8\": \"tuv\",\n",
        "  \"9\": \"wxyz\",\n",
        "}\n",
        "\n",
        "def backtrack"
      ],
      "metadata": {
        "id": "slHVYuxmsXwS"
      },
      "execution_count": null,
      "outputs": []
    },
    {
      "cell_type": "code",
      "source": [
        "res = []\n",
        "\n",
        "subset = []\n",
        "\n",
        "nums = [1,2,3]\n",
        "\n",
        "def dfs(i):\n",
        "    if i >= len(nums):\n",
        "        res.append(subset.copy())\n",
        "        return\n",
        "    subset.append(nums[i])\n",
        "    dfs(i + 1)\n",
        "    subset.pop()\n",
        "    dfs(i + 1)\n",
        "\n",
        "dfs(0)\n",
        "print(res)"
      ],
      "metadata": {
        "colab": {
          "base_uri": "https://localhost:8080/"
        },
        "id": "Bgu2iaf3NR-W",
        "outputId": "b99ef13b-4c94-463a-a0c0-9a9b797570fb"
      },
      "execution_count": null,
      "outputs": [
        {
          "output_type": "stream",
          "name": "stdout",
          "text": [
            "[[1, 2, 3], [1, 2], [1, 3], [1], [2, 3], [2], [3], []]\n"
          ]
        }
      ]
    },
    {
      "cell_type": "code",
      "source": [
        "import math\n",
        "\n",
        "def square_root(num):\n",
        "  return math.sqrt(abs(num))\n",
        "\n",
        "def sort_by_square_root(arr):\n",
        "  # return sorted(arr, key=square_root)\n",
        "  return sorted(arr, key=lambda x: (square_root(x), x))\n",
        "\n",
        "arr = sort_by_square_root([16, -25, 3, -9, 9, 4, 15])\n",
        "\n",
        "res = ' '.join(map(str, arr))\n",
        "\n",
        "print(res)"
      ],
      "metadata": {
        "colab": {
          "base_uri": "https://localhost:8080/"
        },
        "id": "u_tke_5gUyZS",
        "outputId": "92ffee9a-f151-41f3-aa1a-48d31c56234a"
      },
      "execution_count": null,
      "outputs": [
        {
          "output_type": "stream",
          "name": "stdout",
          "text": [
            "3 4 -9 9 15 16 -25\n"
          ]
        }
      ]
    }
  ],
  "metadata": {
    "colab": {
      "provenance": [],
      "authorship_tag": "ABX9TyPF64Ur9pE+Me9/w3G9OFG+",
      "include_colab_link": true
    },
    "kernelspec": {
      "display_name": "Python 3",
      "name": "python3"
    },
    "language_info": {
      "name": "python"
    }
  },
  "nbformat": 4,
  "nbformat_minor": 0
}