{
  "nbformat": 4,
  "nbformat_minor": 0,
  "metadata": {
    "colab": {
      "provenance": [],
      "authorship_tag": "ABX9TyNiq0tudYxNRsqgo3mk626i",
      "include_colab_link": true
    },
    "kernelspec": {
      "name": "python3",
      "display_name": "Python 3"
    },
    "language_info": {
      "name": "python"
    }
  },
  "cells": [
    {
      "cell_type": "markdown",
      "metadata": {
        "id": "view-in-github",
        "colab_type": "text"
      },
      "source": [
        "<a href=\"https://colab.research.google.com/github/Amruthamsh/dsa-practice/blob/main/Graph_Questions.ipynb\" target=\"_parent\"><img src=\"https://colab.research.google.com/assets/colab-badge.svg\" alt=\"Open In Colab\"/></a>"
      ]
    },
    {
      "cell_type": "code",
      "execution_count": 1,
      "metadata": {
        "colab": {
          "base_uri": "https://localhost:8080/"
        },
        "id": "Jt0bUXwY2Jcr",
        "outputId": "45b6f2de-bc66-47d2-e726-4ce97869dd79"
      },
      "outputs": [
        {
          "output_type": "stream",
          "name": "stdout",
          "text": [
            "a\n",
            "b\n",
            "d\n",
            "f\n",
            "c\n",
            "e\n"
          ]
        }
      ],
      "source": [
        "graph = {\n",
        "    'a': ['b', 'c'],\n",
        "    'b': ['d'],\n",
        "    'c': ['e'],\n",
        "    'd': ['f'],\n",
        "    'e': [],\n",
        "    'f': []\n",
        "}\n",
        "\n",
        "def DFS(graph, source):\n",
        "  print(source)\n",
        "  for neighbour in graph[source]:\n",
        "    DFS(graph, neighbour)\n",
        "\n",
        "DFS(graph, 'a')"
      ]
    },
    {
      "cell_type": "code",
      "source": [
        "def DFS(graph, source):\n",
        "  stack = [source]\n",
        "\n",
        "  while stack:\n",
        "    current = stack.pop()\n",
        "    print(current)\n",
        "    for neighbour in graph[current]:\n",
        "      stack.append(neighbour)\n",
        "\n",
        "DFS(graph, 'a')"
      ],
      "metadata": {
        "colab": {
          "base_uri": "https://localhost:8080/"
        },
        "id": "Qp1FQG7O2NW8",
        "outputId": "a93d2a57-a1ab-45e9-89d5-a501e30a7c1e"
      },
      "execution_count": 2,
      "outputs": [
        {
          "output_type": "stream",
          "name": "stdout",
          "text": [
            "a\n",
            "c\n",
            "e\n",
            "b\n",
            "d\n",
            "f\n"
          ]
        }
      ]
    },
    {
      "cell_type": "code",
      "source": [
        "def BFS(graph, source):\n",
        "  queue = [source]\n",
        "\n",
        "  while queue:\n",
        "    current = queue.pop(0)\n",
        "    print(current)\n",
        "    for neighbour in graph[current]:\n",
        "      queue.append(neighbour)\n",
        "\n",
        "BFS(graph, 'a')"
      ],
      "metadata": {
        "colab": {
          "base_uri": "https://localhost:8080/"
        },
        "id": "bC7ic3K42RbE",
        "outputId": "f19eec46-812e-4ae9-cf69-938540b1b729"
      },
      "execution_count": 3,
      "outputs": [
        {
          "output_type": "stream",
          "name": "stdout",
          "text": [
            "a\n",
            "b\n",
            "c\n",
            "d\n",
            "e\n",
            "f\n"
          ]
        }
      ]
    },
    {
      "cell_type": "code",
      "source": [
        "#Undirected Path\n",
        "\n",
        "import collections\n",
        "\n",
        "def buildGraph(edges):\n",
        "  graph = collections.defaultdict(list)\n",
        "  for edge in edges:\n",
        "    node0, node1 = edge\n",
        "    graph[node0].append(node1)\n",
        "    graph[node1].append(node0)\n",
        "\n",
        "  return graph\n",
        "\n",
        "def undirectedPath(graph, src, dest, visited):\n",
        "  if src == dest:\n",
        "    return True\n",
        "  if src in visited:\n",
        "    return False\n",
        "  visited.add(src)\n",
        "  for neighbour in graph[src]:\n",
        "    if undirectedPath(graph, neighbour, dest, visited):\n",
        "      return True\n",
        "  return False\n",
        "\n",
        "edges = [['i','j'],['k','i'],['m','k'],['k','l'],['o','n']]\n",
        "graph = buildGraph(edges)\n",
        "visited = set()\n",
        "print(undirectedPath(graph, 'j', 'm', visited))\n"
      ],
      "metadata": {
        "colab": {
          "base_uri": "https://localhost:8080/"
        },
        "id": "Q0zYRYAM2TU0",
        "outputId": "93950a81-e7f9-4c44-bbea-20c9c96ea720"
      },
      "execution_count": 4,
      "outputs": [
        {
          "output_type": "stream",
          "name": "stdout",
          "text": [
            "True\n"
          ]
        }
      ]
    },
    {
      "cell_type": "code",
      "source": [
        "#Connected Components\n",
        "\n",
        "def connectedComponentsCount(graph):\n",
        "  visited = set()\n",
        "  count = 0\n",
        "  for node in graph:\n",
        "    if explore(graph, node, visited):\n",
        "      count += 1\n",
        "\n",
        "  return count\n",
        "\n",
        "def explore(graph, current, visited):\n",
        "  if current in visited:\n",
        "    return False\n",
        "  visited.add(current)\n",
        "  for neighbour in graph[current]:\n",
        "    explore(graph, neighbour, visited)\n",
        "  return True\n",
        "\n",
        "connectedComponentsCount(\n",
        "{\n",
        "  0:[8,1,5],\n",
        "  1:[0],\n",
        "  5:[0,8],\n",
        "  8:[0,5],\n",
        "  2:[3,4],\n",
        "  3:[2,4],\n",
        "  4:[3,2]\n",
        "  }\n",
        ")\n"
      ],
      "metadata": {
        "colab": {
          "base_uri": "https://localhost:8080/"
        },
        "id": "ZNSBL2Sr2U_E",
        "outputId": "174a4b70-1a34-4e6d-bad9-45fdea558167"
      },
      "execution_count": 5,
      "outputs": [
        {
          "output_type": "execute_result",
          "data": {
            "text/plain": [
              "2"
            ]
          },
          "metadata": {},
          "execution_count": 5
        }
      ]
    },
    {
      "cell_type": "code",
      "source": [
        "def largestComponent(graph):\n",
        "  visited = set()\n",
        "  largest = 0\n",
        "  for node in graph:\n",
        "      size = exploreSize(graph, node, visited)\n",
        "      largest = max(size, largest)\n",
        "  return largest\n",
        "\n",
        "def exploreSize(graph, current, visited):\n",
        "  if current in visited:\n",
        "    return 0\n",
        "  visited.add(current)\n",
        "  size = 1\n",
        "  for neighbour in graph[current]:\n",
        "    size += exploreSize(graph, neighbour, visited)\n",
        "  return size\n",
        "\n",
        "largestComponent(\n",
        "{\n",
        "  0:[8,1,5],\n",
        "  1:[0],\n",
        "  5:[0,8],\n",
        "  8:[0,5],\n",
        "  2:[3,4],\n",
        "  3:[2,4],\n",
        "  4:[3,2]\n",
        "  }\n",
        ")"
      ],
      "metadata": {
        "colab": {
          "base_uri": "https://localhost:8080/"
        },
        "id": "f-IYzOEG2WkM",
        "outputId": "13b37e1e-0b21-48c0-a306-b78d5e8c8744"
      },
      "execution_count": 6,
      "outputs": [
        {
          "output_type": "execute_result",
          "data": {
            "text/plain": [
              "4"
            ]
          },
          "metadata": {},
          "execution_count": 6
        }
      ]
    },
    {
      "cell_type": "code",
      "source": [
        "def shortestPath(graph, src, dest):\n",
        "  visited = set()\n",
        "  visited.add(src)\n",
        "  queue = [(src,0)]\n",
        "  while queue:\n",
        "    current, dist = queue.pop(0)\n",
        "    if current == dest:\n",
        "      return dist\n",
        "    for neighbour in graph[current]:\n",
        "      if neighbour not in visited:\n",
        "        visited.add(neighbour)\n",
        "        queue.append([neighbour, dist + 1])\n",
        "\n",
        "  return -1\n",
        "\n",
        "shortestPath(\n",
        "{\n",
        "  0:[1,2],\n",
        "  1:[0,2],\n",
        "  2:[0,1,3],\n",
        "  3:[2,4],\n",
        "  4:[3]\n",
        "  },\n",
        "  0,\n",
        "  3\n",
        ")\n"
      ],
      "metadata": {
        "colab": {
          "base_uri": "https://localhost:8080/"
        },
        "id": "-cUlR7aN2s7c",
        "outputId": "467045dd-5308-4d32-853c-87d5be9b879c"
      },
      "execution_count": 7,
      "outputs": [
        {
          "output_type": "execute_result",
          "data": {
            "text/plain": [
              "2"
            ]
          },
          "metadata": {},
          "execution_count": 7
        }
      ]
    },
    {
      "cell_type": "code",
      "source": [
        "# island count\n",
        "def islandCount(grid):\n",
        "  visited = set()\n",
        "  count = 0\n",
        "  for i,r in enumerate(grid):\n",
        "    for j,c in enumerate(r):\n",
        "      if exploreGraph(i,j, grid, visited):\n",
        "        count += 1\n",
        "  return count\n",
        "\n",
        "\n",
        "def exploreGraph(r,c,grid, visited):\n",
        "  if not (0 <= r < len(grid)) or not (0 <= c < len(grid[0])):\n",
        "    return False\n",
        "  if grid[r][c] == 'W':\n",
        "    return False\n",
        "\n",
        "  pos = (r,c)\n",
        "  if pos in visited:\n",
        "    return False\n",
        "  visited.add(pos)\n",
        "\n",
        "  exploreGraph(r - 1, c, grid, visited)\n",
        "  exploreGraph(r + 1, c, grid, visited)\n",
        "  exploreGraph(r, c + 1, grid, visited)\n",
        "  exploreGraph(r, c - 1, grid, visited)\n",
        "\n",
        "  return True\n",
        "\n",
        "grid = [\n",
        "  ['W', 'L', 'W', 'W', 'W'],\n",
        "  ['W', 'L', 'W', 'W', 'W'],\n",
        "  ['W', 'W', 'W', 'L', 'W'],\n",
        "  ['W', 'W', 'L', 'L', 'W'],\n",
        "  ['L', 'W', 'W', 'L', 'L'],\n",
        "  ['L', 'L', 'W', 'W', 'W'],\n",
        "]\n",
        "\n",
        "print(islandCount(grid))\n"
      ],
      "metadata": {
        "colab": {
          "base_uri": "https://localhost:8080/"
        },
        "id": "EHJoi41E2uQc",
        "outputId": "5c12daca-ae5f-4e49-a57a-843c68ac6687"
      },
      "execution_count": 8,
      "outputs": [
        {
          "output_type": "stream",
          "name": "stdout",
          "text": [
            "3\n"
          ]
        }
      ]
    },
    {
      "cell_type": "code",
      "source": [
        "# Minimum Island\n",
        "import math\n",
        "\n",
        "def minimumIsland(grid):\n",
        "  visited = set()\n",
        "  minimumSize = math.inf\n",
        "  for i,r in enumerate(grid):\n",
        "    for j,c in enumerate(r):\n",
        "      size = exploreGraph(i,j, grid, visited)\n",
        "      if size > 0:\n",
        "        minimumSize = min(size, minimumSize)\n",
        "  return minimumSize\n",
        "\n",
        "\n",
        "def exploreGraph(r,c,grid, visited):\n",
        "  if not (0 <= r < len(grid)) or not (0 <= c < len(grid[0])):\n",
        "    return 0\n",
        "  if grid[r][c] == 'W':\n",
        "    return 0\n",
        "\n",
        "  pos = (r,c)\n",
        "  if pos in visited:\n",
        "    return 0\n",
        "  visited.add(pos)\n",
        "\n",
        "  size = 1\n",
        "  size += exploreGraph(r - 1, c, grid, visited)\n",
        "  size += exploreGraph(r + 1, c, grid, visited)\n",
        "  size += exploreGraph(r, c + 1, grid, visited)\n",
        "  size += exploreGraph(r, c - 1, grid, visited)\n",
        "\n",
        "  return size\n",
        "\n",
        "grid = [\n",
        "  ['W', 'L', 'W', 'W', 'W'],\n",
        "  ['W', 'L', 'W', 'W', 'W'],\n",
        "  ['W', 'W', 'W', 'L', 'W'],\n",
        "  ['W', 'W', 'L', 'L', 'W'],\n",
        "  ['L', 'W', 'W', 'L', 'L'],\n",
        "  ['L', 'L', 'W', 'W', 'W'],\n",
        "]\n",
        "\n",
        "print(minimumIsland(grid))"
      ],
      "metadata": {
        "colab": {
          "base_uri": "https://localhost:8080/"
        },
        "id": "ql1KhnQI2vfE",
        "outputId": "4afd8040-72f9-4e0b-da49-b84bf7594b94"
      },
      "execution_count": 9,
      "outputs": [
        {
          "output_type": "stream",
          "name": "stdout",
          "text": [
            "2\n"
          ]
        }
      ]
    },
    {
      "cell_type": "code",
      "source": [
        "def fibonacci(n, memo={}):\n",
        "  if n in memo:\n",
        "    return memo[n]\n",
        "  if n <= 2:\n",
        "      return 1\n",
        "  memo[n] = fibonacci(n - 1, memo) + fibonacci(n - 2, memo)\n",
        "  return memo[n]\n",
        "\n",
        "fibonacci(50)"
      ],
      "metadata": {
        "colab": {
          "base_uri": "https://localhost:8080/"
        },
        "id": "RL_E8Hw32x9E",
        "outputId": "e4d00757-07db-4c15-a002-cc5e566f070f"
      },
      "execution_count": 10,
      "outputs": [
        {
          "output_type": "execute_result",
          "data": {
            "text/plain": [
              "12586269025"
            ]
          },
          "metadata": {},
          "execution_count": 10
        }
      ]
    },
    {
      "cell_type": "code",
      "source": [
        "def gridTraveler(m, n, memo={}):\n",
        "  key = str(m) + ',' + str(n)\n",
        "  if key in memo:\n",
        "    return memo[key]\n",
        "  if m == 1 and n == 1:\n",
        "    return 1\n",
        "  if m == 0 or n == 0:\n",
        "    return 0\n",
        "\n",
        "  memo[key] = gridTraveler(m - 1, n, memo) + gridTraveler(m, n - 1, memo)\n",
        "  return memo[key]\n",
        "\n",
        "gridTraveler(18, 18)"
      ],
      "metadata": {
        "colab": {
          "base_uri": "https://localhost:8080/"
        },
        "id": "5Q9jN4bk2y90",
        "outputId": "0abd1342-fecc-4780-da9a-db05a6e6b7b7"
      },
      "execution_count": 11,
      "outputs": [
        {
          "output_type": "execute_result",
          "data": {
            "text/plain": [
              "2333606220"
            ]
          },
          "metadata": {},
          "execution_count": 11
        }
      ]
    }
  ]
}